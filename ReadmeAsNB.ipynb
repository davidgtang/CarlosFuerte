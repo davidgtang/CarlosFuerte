{
 "cells": [
  {
   "cell_type": "markdown",
   "metadata": {},
   "source": [
    "# CarlosFuerte\n",
    "Charlie Strong's Turtleneck\n",
    "\n",
    "\n",
    "<img src=\"https://s3.amazonaws.com/cuttings/backgrounds/291230/Charlie%20Strong.jpg\" width=\"300px\" style=\"display: inline-block; margin-top: 5px;\">\n",
    "\n",
    "Links:\n",
    "\n",
    "http://rogerdudler.github.io/git-guide\n",
    "\n",
    "# Forking a Repository\n",
    "https://help.github.com/articles/fork-a-repo/\n",
    "\n",
    "## Step 1:\n",
    "Navigate to https://github.com/davidgtang/CarlosFuerte and hit the fork button at the top right.\n",
    "\n",
    "## Step 2:\n",
    "Clone your fork in location of your choice\n",
    "```\n",
    "git clone YourForkAddress\n",
    "```\n",
    "\n",
    "## Step 3:\n",
    "Change directory into your local fork\n",
    "```\n",
    "git remote -v\n",
    "```\n",
    "\n",
    "You should see the your local fork for (push) and (fetch)\n",
    "\n",
    "Now add the upstream remote:\n",
    "```\n",
    "git remote add upstream https://github.com/davidgtang/CarlosFuerte\n",
    "```\n",
    "\n",
    "# Syncing Master to Local Fork\n",
    "https://help.github.com/articles/syncing-a-fork/\n",
    "Everytime you start working, make sure you're synced to the upstream master.\n",
    "```\n",
    "git fetch upstream\n",
    "git checkout master\n",
    "git merge upstream/master\n",
    "```"
   ]
  },
  {
   "cell_type": "code",
   "execution_count": null,
   "metadata": {
    "collapsed": true
   },
   "outputs": [],
   "source": []
  }
 ],
 "metadata": {
  "anaconda-cloud": {},
  "celltoolbar": "Slideshow",
  "kernelspec": {
   "display_name": "Python [conda env:ipykernel_py2]",
   "language": "python",
   "name": "conda-env-ipykernel_py2-py"
  },
  "language_info": {
   "codemirror_mode": {
    "name": "ipython",
    "version": 2
   },
   "file_extension": ".py",
   "mimetype": "text/x-python",
   "name": "python",
   "nbconvert_exporter": "python",
   "pygments_lexer": "ipython2",
   "version": "2.7.12"
  }
 },
 "nbformat": 4,
 "nbformat_minor": 1
}
